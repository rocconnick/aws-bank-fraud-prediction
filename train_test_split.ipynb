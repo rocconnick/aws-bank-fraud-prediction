{
 "cells": [
  {
   "cell_type": "code",
   "execution_count": 1,
   "metadata": {},
   "outputs": [
    {
     "name": "stdout",
     "output_type": "stream",
     "text": [
      "Requirement already satisfied: awswrangler in /opt/conda/lib/python3.7/site-packages (2.2.0)\n",
      "Requirement already satisfied: pandas<1.2.0,>=1.1.0 in /opt/conda/lib/python3.7/site-packages (from awswrangler) (1.1.5)\n",
      "Requirement already satisfied: pg8000~=1.16.0 in /opt/conda/lib/python3.7/site-packages (from awswrangler) (1.16.6)\n",
      "Requirement already satisfied: pyarrow~=2.0.0 in /opt/conda/lib/python3.7/site-packages (from awswrangler) (2.0.0)\n",
      "Requirement already satisfied: numpy<1.20.0,>=1.18.0 in /opt/conda/lib/python3.7/site-packages (from awswrangler) (1.18.1)\n",
      "Requirement already satisfied: pymysql<0.11.0,>=0.9.0 in /opt/conda/lib/python3.7/site-packages (from awswrangler) (0.10.1)\n",
      "Requirement already satisfied: botocore<2.0.0,>=1.15.49 in /opt/conda/lib/python3.7/site-packages (from awswrangler) (1.19.36)\n",
      "Requirement already satisfied: boto3<2.0.0,>=1.12.49 in /opt/conda/lib/python3.7/site-packages (from awswrangler) (1.16.36)\n",
      "Requirement already satisfied: redshift-connector~=2.0.0 in /opt/conda/lib/python3.7/site-packages (from awswrangler) (2.0.872)\n",
      "Requirement already satisfied: pytz>=2017.2 in /opt/conda/lib/python3.7/site-packages (from pandas<1.2.0,>=1.1.0->awswrangler) (2020.4)\n",
      "Requirement already satisfied: python-dateutil>=2.7.3 in /opt/conda/lib/python3.7/site-packages (from pandas<1.2.0,>=1.1.0->awswrangler) (2.8.1)\n",
      "Requirement already satisfied: scramp==1.2.0 in /opt/conda/lib/python3.7/site-packages (from pg8000~=1.16.0->awswrangler) (1.2.0)\n",
      "Requirement already satisfied: urllib3<1.27,>=1.25.4; python_version != \"3.4\" in /opt/conda/lib/python3.7/site-packages (from botocore<2.0.0,>=1.15.49->awswrangler) (1.25.8)\n",
      "Requirement already satisfied: jmespath<1.0.0,>=0.7.1 in /opt/conda/lib/python3.7/site-packages (from botocore<2.0.0,>=1.15.49->awswrangler) (0.10.0)\n",
      "Requirement already satisfied: s3transfer<0.4.0,>=0.3.0 in /opt/conda/lib/python3.7/site-packages (from boto3<2.0.0,>=1.12.49->awswrangler) (0.3.3)\n",
      "Requirement already satisfied: lxml>=4.2.5<4.6.0 in /opt/conda/lib/python3.7/site-packages (from redshift-connector~=2.0.0->awswrangler) (4.5.0)\n",
      "Requirement already satisfied: beautifulsoup4>=4.7.0<4.8.0 in /opt/conda/lib/python3.7/site-packages (from redshift-connector~=2.0.0->awswrangler) (4.8.2)\n",
      "Requirement already satisfied: requests>=2.23.0<2.24.0 in /opt/conda/lib/python3.7/site-packages (from redshift-connector~=2.0.0->awswrangler) (2.25.1)\n",
      "Requirement already satisfied: six>=1.5 in /opt/conda/lib/python3.7/site-packages (from python-dateutil>=2.7.3->pandas<1.2.0,>=1.1.0->awswrangler) (1.14.0)\n",
      "Requirement already satisfied: soupsieve>=1.2 in /opt/conda/lib/python3.7/site-packages (from beautifulsoup4>=4.7.0<4.8.0->redshift-connector~=2.0.0->awswrangler) (1.9.5)\n",
      "Requirement already satisfied: certifi>=2017.4.17 in /opt/conda/lib/python3.7/site-packages (from requests>=2.23.0<2.24.0->redshift-connector~=2.0.0->awswrangler) (2019.11.28)\n",
      "Requirement already satisfied: idna<3,>=2.5 in /opt/conda/lib/python3.7/site-packages (from requests>=2.23.0<2.24.0->redshift-connector~=2.0.0->awswrangler) (2.8)\n",
      "Requirement already satisfied: chardet<5,>=3.0.2 in /opt/conda/lib/python3.7/site-packages (from requests>=2.23.0<2.24.0->redshift-connector~=2.0.0->awswrangler) (3.0.4)\n"
     ]
    }
   ],
   "source": [
    "! pip install awswrangler"
   ]
  },
  {
   "cell_type": "code",
   "execution_count": 2,
   "metadata": {},
   "outputs": [],
   "source": [
    "import awswrangler as wr\n",
    "\n",
    "df = wr.s3.read_parquet(\"s3://banking-fraud/parquet/records/\", dataset=True)\n"
   ]
  },
  {
   "cell_type": "code",
   "execution_count": 3,
   "metadata": {},
   "outputs": [
    {
     "data": {
      "text/plain": [
       "((5090096, 12), (1272524, 12))"
      ]
     },
     "execution_count": 3,
     "metadata": {},
     "output_type": "execute_result"
    }
   ],
   "source": [
    "from sklearn import model_selection\n",
    "\n",
    "train, test = model_selection.train_test_split(df, test_size=0.2, random_state=42)\n",
    "\n",
    "train.shape, test.shape"
   ]
  },
  {
   "cell_type": "code",
   "execution_count": null,
   "metadata": {},
   "outputs": [],
   "source": [
    "output_prefix = \"s3://banking-fraud/training\"\n",
    "wr.s3.to_csv(train, f\"{output_prefix}/train.csv\")\n",
    "wr.s3.to_csv(test, f\"{output_prefix}/test.csv\")"
   ]
  }
 ],
 "metadata": {
  "instance_type": "ml.m5.large",
  "kernelspec": {
   "display_name": "Python 3 (Data Science)",
   "language": "python",
   "name": "python3__SAGEMAKER_INTERNAL__arn:aws:sagemaker:us-east-2:429704687514:image/datascience-1.0"
  },
  "language_info": {
   "codemirror_mode": {
    "name": "ipython",
    "version": 3
   },
   "file_extension": ".py",
   "mimetype": "text/x-python",
   "name": "python",
   "nbconvert_exporter": "python",
   "pygments_lexer": "ipython3",
   "version": "3.7.6"
  }
 },
 "nbformat": 4,
 "nbformat_minor": 4
}
